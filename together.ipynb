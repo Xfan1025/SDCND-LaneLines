{
 "cells": [
  {
   "cell_type": "code",
   "execution_count": 1,
   "metadata": {
    "collapsed": true
   },
   "outputs": [],
   "source": [
    "#importing some useful packages\n",
    "import matplotlib.pyplot as plt\n",
    "import matplotlib.image as mpimg\n",
    "import numpy as np\n",
    "import cv2\n",
    "%matplotlib inline"
   ]
  },
  {
   "cell_type": "code",
   "execution_count": 2,
   "metadata": {
    "collapsed": true
   },
   "outputs": [],
   "source": [
    "from moviepy.editor import VideoFileClip\n",
    "from IPython.display import HTML\n",
    "def process_image(image):\n",
    "    # NOTE: The output you return should be a color image (3 channel) for processing video below\n",
    "    # TODO: put your pipeline here,\n",
    "    # you should return the final output (image where lines are drawn on lanes)\n",
    "    \n",
    "    return Lane_Detection(image)"
   ]
  },
  {
   "cell_type": "code",
   "execution_count": 3,
   "metadata": {
    "collapsed": true
   },
   "outputs": [],
   "source": [
    "import math\n",
    "\n",
    "def grayscale(img):\n",
    "    \"\"\"Applies the Grayscale transform\n",
    "    This will return an image with only one color channel\n",
    "    \"\"\"\n",
    "    return cv2.cvtColor(img, cv2.COLOR_RGB2GRAY)\n",
    "\n",
    "def canny(img, low_threshold, high_threshold):\n",
    "    \"\"\"Applies the Canny transform\"\"\"\n",
    "    return cv2.Canny(img, low_threshold, high_threshold)\n",
    "\n",
    "def gaussian_blur(img, kernel_size):\n",
    "    \"\"\"Applies a Gaussian Noise kernel\"\"\"\n",
    "    return cv2.GaussianBlur(img, (kernel_size, kernel_size), 0)\n",
    "\n",
    "def region_of_interest(img, vertices):\n",
    "    \"\"\"\n",
    "    Applies an image mask.\n",
    "    \n",
    "    Only keeps the region of the image defined by the polygon\n",
    "    formed from `vertices`. The rest of the image is set to black.\n",
    "    \"\"\"\n",
    "    #defining a blank mask to start with\n",
    "    mask = np.zeros_like(img)   \n",
    "    \n",
    "    #defining a 3 channel or 1 channel color to fill the mask with depending on the input image\n",
    "    if len(img.shape) > 2:\n",
    "        channel_count = img.shape[2]  # i.e. 3 or 4 depending on your image\n",
    "        ignore_mask_color = (255,) * channel_count\n",
    "    else:\n",
    "        ignore_mask_color = 255\n",
    "        \n",
    "    #filling pixels inside the polygon defined by \"vertices\" with the fill color    \n",
    "    cv2.fillPoly(mask, vertices, ignore_mask_color)\n",
    "    \n",
    "    #returning the image only where mask pixels are nonzero\n",
    "    masked_image = cv2.bitwise_and(img, mask)\n",
    "    return masked_image\n",
    "\n",
    "def hough_lines(img, rho, theta, threshold, min_line_len, max_line_gap):\n",
    "    \"\"\"\n",
    "    `img` should be the output of a Canny transform.\n",
    "    Returns an image with hough lines drawn.\n",
    "    \"\"\"\n",
    "    lines = cv2.HoughLinesP(img, rho, theta, threshold, np.array([]), minLineLength=min_line_len, maxLineGap=max_line_gap)\n",
    "    line_img = np.zeros((img.shape[0], img.shape[1], 3), dtype=np.uint8)\n",
    "    draw_lines(line_img, lines)\n",
    "    \n",
    "    return line_img\n",
    "\n",
    "# Python 3 has support for cool math symbols.\n",
    "\n",
    "def weighted_img(img, initial_img, α=0.8, β=1., λ=0.):\n",
    "    \"\"\"\n",
    "    `img` is the output of the hough_lines(), An image with lines drawn on it.\n",
    "    Should be a blank image (all black) with lines drawn on it.\n",
    "    \n",
    "    `initial_img` should be the image before any processing.\n",
    "    \n",
    "    The result image is computed as follows:\n",
    "    \n",
    "    initial_img * α + img * β + λ\n",
    "    NOTE: initial_img and img must be the same shape!\n",
    "    \"\"\"\n",
    "    return cv2.addWeighted(initial_img, α, img, β, λ)"
   ]
  },
  {
   "cell_type": "code",
   "execution_count": 4,
   "metadata": {
    "collapsed": true
   },
   "outputs": [],
   "source": [
    "def coordinates(y_coor, lines, prev):\n",
    "    \"\"\"\n",
    "    Calculates the x coordinates for a lane line.\n",
    "    \"\"\"\n",
    "    if lines:\n",
    "        lines = [line.flatten() for line in lines]\n",
    "        \n",
    "        # Calculate line lengths to be used as weights in weighted average\n",
    "        lengths = [np.sqrt((line[2]-line[0])**2 + (line[3]-line[1])**2) for line in lines]\n",
    "        \n",
    "        # Calculate weighted average\n",
    "        avg = [int(np.average(line, weights = lengths)) for line in zip(*lines)]\n",
    "        \n",
    "        # Calculate equation of line coefficients\n",
    "        coef = np.polyfit((avg[0], avg[2]), (avg[1], avg[3]), 1)\n",
    "        \n",
    "        # Average equation of line coefficients with ones from previous frame\n",
    "        if sum(prev) != 0:\n",
    "            prev = [(prev[i] + coef[i])/2 for i in range(2)]\n",
    "        elif sum(prev) == 0:\n",
    "            prev = [coef[i] for i in range(2)]\n",
    "\n",
    "    # Calculate x coordinates given y coordinates\n",
    "    if prev[0]:\n",
    "        x_coor = [int((y-prev[1])/prev[0]) for y in y_coor]\n",
    "    else:\n",
    "        x_coor = [int(y) for y in y_coor]\n",
    "\n",
    "        \n",
    "    coor = list(zip(x_coor, y_coor))\n",
    "    \n",
    "    return coor, prev\n",
    "        \n",
    "def draw_lines(img, lines, color=[255, 0, 0], thickness=8):\n",
    "    # sparate lines into left and right lines\n",
    "    global left_prev\n",
    "    global right_prev\n",
    "    \n",
    "    left_lines = []\n",
    "    right_lines = []\n",
    "    for line in lines:\n",
    "        for x1,y1,x2,y2 in line:\n",
    "            # skip the case where x1==x2\n",
    "            if not (x2 == x1):\n",
    "                slope = (y2-y1)/(x2-x1)\n",
    "\n",
    "                # the origin is the upper left\n",
    "                # slope < 0, left side\n",
    "    #             if slope < 0:\n",
    "    #                 # try to get rid of some noise\n",
    "                if -2 < slope < -0.5:\n",
    "                    left_lines.append(line)\n",
    "                # slope > 0, right side\n",
    "                if 0 < slope < 2:\n",
    "                    right_lines.append(line)\n",
    "    \n",
    "    y_coor = [int(img.shape[0]*0.6), img.shape[0]]\n",
    "    \n",
    "    left_coor, left_prev = coordinates(y_coor, left_lines, left_prev)\n",
    "    right_coor, right_prev = coordinates(y_coor, right_lines, right_prev)\n",
    "    \n",
    "    cv2.line(img, (left_coor[0][0], left_coor[0][1]), (left_coor[1][0], left_coor[1][1]), color, thickness)\n",
    "    cv2.line(img, (right_coor[0][0], right_coor[0][1]), (right_coor[1][0], right_coor[1][1]), color, thickness)    "
   ]
  },
  {
   "cell_type": "code",
   "execution_count": null,
   "metadata": {
    "collapsed": true
   },
   "outputs": [],
   "source": []
  },
  {
   "cell_type": "code",
   "execution_count": null,
   "metadata": {
    "collapsed": true
   },
   "outputs": [],
   "source": []
  },
  {
   "cell_type": "code",
   "execution_count": 5,
   "metadata": {},
   "outputs": [],
   "source": [
    "\n",
    "# global variables to store for previous frame\n",
    "\n",
    "left_prev = [0, 0]\n",
    "right_prev = [0, 0]\n",
    "def Lane_Detection(image):\n",
    "    global left_prev\n",
    "    global right_prev\n",
    "    # reset\n",
    "    left_prev = [0, 0]\n",
    "    right_prev = [0, 0]\n",
    "    # pipeline parameters\n",
    "    kernel_size = 5\n",
    "    low_threshold = 50\n",
    "    high_threshold = 150\n",
    "    vertices = np.array([[(0,image.shape[0]),(450, 325), (500, 320), (image.shape[1],image.shape[0])]], dtype=np.int32)\n",
    "    rho = 2\n",
    "    theta = np.pi/180\n",
    "    threshold = 70\n",
    "    min_line_len = 40\n",
    "    max_line_gap = 100\n",
    "    α = 0.8\n",
    "    β=1.\n",
    "    λ=0.\n",
    "    # grayscale\n",
    "    gray = grayscale(image)\n",
    "\n",
    "    # Gaussian blur\n",
    "    blur = gaussian_blur(gray, kernel_size=kernel_size)\n",
    "    \n",
    "    # Canny Edge Detection\n",
    "    edges = canny(blur, low_threshold=low_threshold, high_threshold=high_threshold)\n",
    "    \n",
    "#     plt.imshow(edges, cmap='Greys_r')\n",
    "#     plt.show()\n",
    "    # Masked edges\n",
    "    masked_edges = region_of_interest(edges, vertices)\n",
    "    \n",
    "        # Identify lines in image and sort into left and right lines\n",
    "    line_image = hough_lines(masked_edges, rho, theta, threshold, min_line_len, max_line_gap)\n",
    "\n",
    "\n",
    "    # Overlay drawn lines onto original image\n",
    "    line_edges = weighted_img(line_image, image, α, β, λ)\n",
    "    return line_edges\n",
    "\n",
    "\n",
    "\n"
   ]
  },
  {
   "cell_type": "code",
   "execution_count": null,
   "metadata": {
    "collapsed": true
   },
   "outputs": [],
   "source": []
  },
  {
   "cell_type": "code",
   "execution_count": null,
   "metadata": {
    "collapsed": true
   },
   "outputs": [],
   "source": []
  },
  {
   "cell_type": "code",
   "execution_count": null,
   "metadata": {
    "collapsed": true
   },
   "outputs": [],
   "source": []
  },
  {
   "cell_type": "code",
   "execution_count": null,
   "metadata": {},
   "outputs": [],
   "source": [
    "white_output = 'test_videos_output/solidWhiteRight.mp4'\n",
    "## To speed up the testing process you may want to try your pipeline on a shorter subclip of the video\n",
    "## To do so add .subclip(start_second,end_second) to the end of the line below\n",
    "## Where start_second and end_second are integer values representing the start and end of the subclip\n",
    "## You may also uncomment the following line for a subclip of the first 5 seconds\n",
    "##clip1 = VideoFileClip(\"test_videos/solidWhiteRight.mp4\").subclip(0,5)\n",
    "clip1 = VideoFileClip(\"test_videos/solidWhiteRight.mp4\")\n",
    "white_clip = clip1.fl_image(process_image) #NOTE: this function expects color images!!\n",
    "%time white_clip.write_videofile(white_output, audio=False)"
   ]
  },
  {
   "cell_type": "code",
   "execution_count": null,
   "metadata": {},
   "outputs": [],
   "source": [
    "yellow_output = 'test_videos_output/solidYellowLeft_2.mp4'\n",
    "## To speed up the testing process you may want to try your pipeline on a shorter subclip of the video\n",
    "## To do so add .subclip(start_second,end_second) to the end of the line below\n",
    "## Where start_second and end_second are integer values representing the start and end of the subclip\n",
    "## You may also uncomment the following line for a subclip of the first 5 seconds\n",
    "##clip2 = VideoFileClip('test_videos/solidYellowLeft.mp4').subclip(0,5)\n",
    "clip2 = VideoFileClip('test_videos/solidYellowLeft.mp4')\n",
    "yellow_clip = clip2.fl_image(process_image)\n",
    "%time yellow_clip.write_videofile(yellow_output, audio=False)"
   ]
  },
  {
   "cell_type": "code",
   "execution_count": 6,
   "metadata": {
    "scrolled": true
   },
   "outputs": [
    {
     "name": "stdout",
     "output_type": "stream",
     "text": [
      "[MoviePy] >>>> Building video test_videos_output/challenge_final.mp4\n",
      "[MoviePy] Writing video test_videos_output/challenge_final.mp4\n"
     ]
    },
    {
     "name": "stderr",
     "output_type": "stream",
     "text": [
      "100%|██████████| 251/251 [00:17<00:00, 14.58it/s]\n"
     ]
    },
    {
     "name": "stdout",
     "output_type": "stream",
     "text": [
      "[MoviePy] Done.\n",
      "[MoviePy] >>>> Video ready: test_videos_output/challenge_final.mp4 \n",
      "\n",
      "CPU times: user 8.51 s, sys: 2.14 s, total: 10.6 s\n",
      "Wall time: 18.6 s\n"
     ]
    }
   ],
   "source": [
    "challenge_output = 'test_videos_output/challenge_final.mp4'\n",
    "## To speed up the testing process you may want to try your pipeline on a shorter subclip of the video\n",
    "## To do so add .subclip(start_second,end_second) to the end of the line below\n",
    "## Where start_second and end_second are integer values representing the start and end of the subclip\n",
    "## You may also uncomment the following line for a subclip of the first 5 seconds\n",
    "##clip3 = VideoFileClip('test_videos/challenge.mp4').subclip(0,5)\n",
    "clip3 = VideoFileClip('test_videos/challenge.mp4')\n",
    "challenge_clip = clip3.fl_image(process_image)\n",
    "%time challenge_clip.write_videofile(challenge_output, audio=False)"
   ]
  },
  {
   "cell_type": "code",
   "execution_count": null,
   "metadata": {
    "collapsed": true
   },
   "outputs": [],
   "source": []
  }
 ],
 "metadata": {
  "kernelspec": {
   "display_name": "Python 3",
   "language": "python",
   "name": "python3"
  },
  "language_info": {
   "codemirror_mode": {
    "name": "ipython",
    "version": 3
   },
   "file_extension": ".py",
   "mimetype": "text/x-python",
   "name": "python",
   "nbconvert_exporter": "python",
   "pygments_lexer": "ipython3",
   "version": "3.6.2"
  }
 },
 "nbformat": 4,
 "nbformat_minor": 2
}
